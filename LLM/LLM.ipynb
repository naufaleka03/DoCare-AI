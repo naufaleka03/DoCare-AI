{
 "cells": [
  {
   "cell_type": "code",
   "execution_count": 1,
   "id": "b49adb5b-a54f-4933-8251-6beb13029a42",
   "metadata": {},
   "outputs": [
    {
     "name": "stderr",
     "output_type": "stream",
     "text": [
      "/home/a_syarif_hidayat/anaconda3/envs/docare/lib/python3.10/site-packages/sentence_transformers/cross_encoder/CrossEncoder.py:11: TqdmExperimentalWarning: Using `tqdm.autonotebook.tqdm` in notebook mode. Use `tqdm.tqdm` instead to force console mode (e.g. in jupyter console)\n",
      "  from tqdm.autonotebook import tqdm, trange\n",
      "2024-11-25 08:54:01.441325: I tensorflow/core/platform/cpu_feature_guard.cc:193] This TensorFlow binary is optimized with oneAPI Deep Neural Network Library (oneDNN) to use the following CPU instructions in performance-critical operations:  AVX2 AVX512F AVX512_VNNI FMA\n",
      "To enable them in other operations, rebuild TensorFlow with the appropriate compiler flags.\n",
      "2024-11-25 08:54:01.576272: I tensorflow/core/util/util.cc:169] oneDNN custom operations are on. You may see slightly different numerical results due to floating-point round-off errors from different computation orders. To turn them off, set the environment variable `TF_ENABLE_ONEDNN_OPTS=0`.\n",
      "2024-11-25 08:54:01.614353: E tensorflow/stream_executor/cuda/cuda_blas.cc:2981] Unable to register cuBLAS factory: Attempting to register factory for plugin cuBLAS when one has already been registered\n",
      "2024-11-25 08:54:02.349446: W tensorflow/stream_executor/platform/default/dso_loader.cc:64] Could not load dynamic library 'libnvinfer.so.7'; dlerror: libnvinfer.so.7: cannot open shared object file: No such file or directory; LD_LIBRARY_PATH: /usr/lib/cuda/include:\n",
      "2024-11-25 08:54:02.349560: W tensorflow/stream_executor/platform/default/dso_loader.cc:64] Could not load dynamic library 'libnvinfer_plugin.so.7'; dlerror: libnvinfer_plugin.so.7: cannot open shared object file: No such file or directory; LD_LIBRARY_PATH: /usr/lib/cuda/include:\n",
      "2024-11-25 08:54:02.349570: W tensorflow/compiler/tf2tensorrt/utils/py_utils.cc:38] TF-TRT Warning: Cannot dlopen some TensorRT libraries. If you would like to use Nvidia GPU with TensorRT, please make sure the missing libraries mentioned above are installed properly.\n",
      "/home/a_syarif_hidayat/anaconda3/envs/docare/lib/python3.10/site-packages/transformers/tokenization_utils_base.py:1601: FutureWarning: `clean_up_tokenization_spaces` was not set. It will be set to `True` by default. This behavior will be depracted in transformers v4.45, and will be then set to `False` by default. For more details check this issue: https://github.com/huggingface/transformers/issues/31884\n",
      "  warnings.warn(\n"
     ]
    }
   ],
   "source": [
    "#Import Library\n",
    "import ollama\n",
    "import time\n",
    "from IPython.display import display, clear_output, Markdown\n",
    "from DoCare_AI import search"
   ]
  },
  {
   "cell_type": "code",
   "execution_count": 2,
   "id": "e8fd6bd6-8e92-4958-a2bb-608ad84e05e6",
   "metadata": {},
   "outputs": [
    {
     "data": {
      "text/markdown": [
       "Thank you for consulting with DoCare AI.\n",
       "\n",
       "Based on the symptoms you've described - blurred vision, eye pain, red eyes, and headache - it's possible that you may be experiencing symptoms of Conjunctivitis (also known as pinkeye). However, without a comprehensive evaluation by an eye care professional, it's difficult to confirm the exact cause of your symptoms.\n",
       "\n",
       "Conjunctivitis can indeed present with blurred vision, eye pain, red eyes, and headache. But other conditions such as Refractive errors, Cataracts, or even Retinal disorders could also be potential causes.\n",
       "\n",
       "I recommend that you consult an eye care professional as soon as possible for a comprehensive evaluation and diagnosis.\n",
       "\n",
       "Hope this information helps and wish you a speedy recovery. Thank you."
      ],
      "text/plain": [
       "<IPython.core.display.Markdown object>"
      ]
     },
     "metadata": {},
     "output_type": "display_data"
    }
   ],
   "source": [
    "#Functions to produce a response from the model\n",
    "def generate(context, query, tone = \"professional and friendly\"):\n",
    "    context_text = ' '.join(context)\n",
    "    input_text = f\"\"\"\n",
    "    You are a healthcare chatbot. Please answer the question in a tone {tone}.\n",
    "    Here are some rules on how to answer :\n",
    "    - Use language that is {tone}\n",
    "    - Before answering say \"Thank you for consulting with DoCare AI\"\n",
    "    - At the end of the answer say \"Hope this information helps and wish you a speedy recovery and say thank you\"\n",
    "    - If the answer is not available, don't answer, do not make up an answer.\n",
    "    - Answer questions based on the language of the question given.\n",
    "    - Give all the answers related to the question disease. If there is no answer related to the disease, don't say \"no information\", but say \"this is the only information I got\". Do not make up an answer.\n",
    "    The following is informational text to answer questions later :\n",
    "    \n",
    "    {context_text}\n",
    "    \n",
    "    After you read the informational text, answer the following questions clearly according to the question.\n",
    "    Question : {query}\n",
    "    \"\"\"\n",
    "\n",
    "    response = ollama.chat(\n",
    "    model = 'llama3.1', #Aku pake llama 3.1 8B, bisa cobain pake llama yang 3.2 1B lebih kecil cuman 1GB-an kalau gk salah\n",
    "    messages = [ #Selain role system dan user ada juga role assistan cuman aku belum pernah coba\n",
    "        {\n",
    "            'role' : 'system',\n",
    "            'content' : input_text,\n",
    "        },\n",
    "        {\n",
    "            'role' : 'user',\n",
    "            'content' : query,\n",
    "        },\n",
    "    ],\n",
    "    options = { #Ada banyak parameter selain seed cobain ajaa eksplor\n",
    "        'seed' : 378\n",
    "    },\n",
    "    stream=True\n",
    "    )\n",
    "\n",
    "    return response\n",
    "    \n",
    "#Question Query\n",
    "query = 'I have blurred vision, eye pain, red eyes and headache. What disease do I suffer from?'\n",
    "results = search(query)\n",
    "response = generate(results, query)\n",
    "\n",
    "output = ''\n",
    "for chunk in response:\n",
    "    output += chunk['message']['content']\n",
    "    clear_output(wait=True)\n",
    "    display(Markdown(output))\n",
    "    time.sleep(0.1)"
   ]
  },
  {
   "cell_type": "code",
   "execution_count": null,
   "id": "b9d97cbd-962a-49a1-a1c6-8d9230670288",
   "metadata": {},
   "outputs": [],
   "source": []
  }
 ],
 "metadata": {
  "kernelspec": {
   "display_name": "Docare AI",
   "language": "python",
   "name": "docare"
  },
  "language_info": {
   "codemirror_mode": {
    "name": "ipython",
    "version": 3
   },
   "file_extension": ".py",
   "mimetype": "text/x-python",
   "name": "python",
   "nbconvert_exporter": "python",
   "pygments_lexer": "ipython3",
   "version": "3.10.15"
  }
 },
 "nbformat": 4,
 "nbformat_minor": 5
}
