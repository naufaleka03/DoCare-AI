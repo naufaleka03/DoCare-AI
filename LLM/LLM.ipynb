{
 "cells": [
  {
   "cell_type": "code",
   "execution_count": 1,
   "id": "b49adb5b-a54f-4933-8251-6beb13029a42",
   "metadata": {
    "scrolled": true
   },
   "outputs": [
    {
     "name": "stderr",
     "output_type": "stream",
     "text": [
      "2024-12-03 10:34:58.032330: I tensorflow/core/platform/cpu_feature_guard.cc:193] This TensorFlow binary is optimized with oneAPI Deep Neural Network Library (oneDNN) to use the following CPU instructions in performance-critical operations:  AVX2 AVX512F AVX512_VNNI FMA\n",
      "To enable them in other operations, rebuild TensorFlow with the appropriate compiler flags.\n",
      "2024-12-03 10:34:58.187845: I tensorflow/core/util/util.cc:169] oneDNN custom operations are on. You may see slightly different numerical results due to floating-point round-off errors from different computation orders. To turn them off, set the environment variable `TF_ENABLE_ONEDNN_OPTS=0`.\n",
      "2024-12-03 10:34:58.225625: E tensorflow/stream_executor/cuda/cuda_blas.cc:2981] Unable to register cuBLAS factory: Attempting to register factory for plugin cuBLAS when one has already been registered\n",
      "2024-12-03 10:34:58.980372: W tensorflow/stream_executor/platform/default/dso_loader.cc:64] Could not load dynamic library 'libnvinfer.so.7'; dlerror: libnvinfer.so.7: cannot open shared object file: No such file or directory; LD_LIBRARY_PATH: /usr/lib/cuda/include:\n",
      "2024-12-03 10:34:58.980460: W tensorflow/stream_executor/platform/default/dso_loader.cc:64] Could not load dynamic library 'libnvinfer_plugin.so.7'; dlerror: libnvinfer_plugin.so.7: cannot open shared object file: No such file or directory; LD_LIBRARY_PATH: /usr/lib/cuda/include:\n",
      "2024-12-03 10:34:58.980468: W tensorflow/compiler/tf2tensorrt/utils/py_utils.cc:38] TF-TRT Warning: Cannot dlopen some TensorRT libraries. If you would like to use Nvidia GPU with TensorRT, please make sure the missing libraries mentioned above are installed properly.\n",
      "/home/a_syarif_hidayat/anaconda3/envs/docare/lib/python3.10/site-packages/transformers/tokenization_utils_base.py:1601: FutureWarning: `clean_up_tokenization_spaces` was not set. It will be set to `True` by default. This behavior will be depracted in transformers v4.45, and will be then set to `False` by default. For more details check this issue: https://github.com/huggingface/transformers/issues/31884\n",
      "  warnings.warn(\n",
      "2024-12-03 10:35:05.860015: W tensorflow/stream_executor/platform/default/dso_loader.cc:64] Could not load dynamic library 'libcudnn.so.8'; dlerror: libcudnn.so.8: cannot open shared object file: No such file or directory; LD_LIBRARY_PATH: /usr/lib/cuda/include:\n",
      "2024-12-03 10:35:05.860051: W tensorflow/core/common_runtime/gpu/gpu_device.cc:1934] Cannot dlopen some GPU libraries. Please make sure the missing libraries mentioned above are installed properly if you would like to use GPU. Follow the guide at https://www.tensorflow.org/install/gpu for how to download and setup the required libraries for your platform.\n",
      "Skipping registering GPU devices...\n",
      "2024-12-03 10:35:05.860449: I tensorflow/core/platform/cpu_feature_guard.cc:193] This TensorFlow binary is optimized with oneAPI Deep Neural Network Library (oneDNN) to use the following CPU instructions in performance-critical operations:  AVX2 AVX512F AVX512_VNNI FMA\n",
      "To enable them in other operations, rebuild TensorFlow with the appropriate compiler flags.\n",
      "Some weights of the PyTorch model were not used when initializing the TF 2.0 model TFBertModel: ['embeddings.position_ids']\n",
      "- This IS expected if you are initializing TFBertModel from a PyTorch model trained on another task or with another architecture (e.g. initializing a TFBertForSequenceClassification model from a BertForPreTraining model).\n",
      "- This IS NOT expected if you are initializing TFBertModel from a PyTorch model that you expect to be exactly identical (e.g. initializing a TFBertForSequenceClassification model from a BertForSequenceClassification model).\n",
      "All the weights of TFBertModel were initialized from the PyTorch model.\n",
      "If your task is similar to the task the model of the checkpoint was trained on, you can already use TFBertModel for predictions without further training.\n"
     ]
    }
   ],
   "source": [
    "#Import Library\n",
    "import ollama\n",
    "import time\n",
    "from IPython.display import display, clear_output, Markdown\n",
    "from DoCare_AI import search"
   ]
  },
  {
   "cell_type": "code",
   "execution_count": 2,
   "id": "e8fd6bd6-8e92-4958-a2bb-608ad84e05e6",
   "metadata": {},
   "outputs": [
    {
     "data": {
      "text/markdown": [
       "Thank you for consulting with DoCare AI\n",
       "\n",
       "Based on the symptoms you've described (blurred vision, eye pain, red eyes, and headache), it's possible that you may be suffering from an eye infection such as conjunctivitis or a stye. However, given the combination of symptoms, I would like to consider other possibilities.\n",
       "\n",
       "Coats disease is another condition that can cause blurred vision, but it typically affects only one eye and can lead to a white mass in the pupil. Eales disease can also cause sudden blurring of vision due to inflammation around the veins in the retina, but this condition is relatively rare and usually affects both eyes.\n",
       "\n",
       "It's essential to consult an eye specialist or a doctor for a proper diagnosis as these symptoms could be indicative of various conditions. They will perform a thorough examination, possibly including imaging tests like an OCT scan, to determine the underlying cause.\n",
       "\n",
       "Hope this information helps and wish you a speedy recovery!\n",
       "Thank you!"
      ],
      "text/plain": [
       "<IPython.core.display.Markdown object>"
      ]
     },
     "metadata": {},
     "output_type": "display_data"
    }
   ],
   "source": [
    "#Functions to produce a response from the model\n",
    "def generate(context, query, tone = \"professional and friendly\"):\n",
    "    context_text = ' '.join(context)\n",
    "    input_text = f\"\"\"\n",
    "    You are a healthcare chatbot. Please answer the question in a tone {tone}.\n",
    "    Give all the answers related to the question disease. If there is no answer related to the disease, don't say \"no information\", but say \"this is the only information I got\". Do not make up an answer.\n",
    "    If the answer is not available, don't answer, do not make up an answer.\n",
    "    Here are some rules on how to answer :\n",
    "    - Use language that is {tone}\n",
    "    - Before answering say \"Thank you for consulting with DoCare AI\"\n",
    "    - At the end of the answer say \"Hope this information helps and wish you a speedy recovery and say thank you\"\n",
    "    - Answer questions based on the language of the question given.\n",
    "    The following is informational text to answer questions later :\n",
    "    \n",
    "    {context_text}\n",
    "    \n",
    "    After you read the informational text, answer the following questions clearly according to the question.\n",
    "    Question : {query}\n",
    "    \"\"\"\n",
    "\n",
    "    response = ollama.chat(\n",
    "    model = 'llama3.1',\n",
    "    messages = [\n",
    "        {\n",
    "            'role' : 'system',\n",
    "            'content' : input_text,\n",
    "        },\n",
    "        {\n",
    "            'role' : 'user',\n",
    "            'content' : query,\n",
    "        },\n",
    "    ],\n",
    "    options = {\n",
    "        'seed' : 237\n",
    "    },\n",
    "    stream=True\n",
    "    )\n",
    "    return response\n",
    "    \n",
    "#Question Query\n",
    "query = 'I have blurred vision, eye pain, red eyes and headache. What disease do I suffer from?'\n",
    "results = search(query)\n",
    "response = generate(results, query)\n",
    "\n",
    "output = ''\n",
    "for chunk in response:\n",
    "    output += chunk['message']['content']\n",
    "    clear_output(wait=True)\n",
    "    display(Markdown(output))\n",
    "    time.sleep(0.1)"
   ]
  },
  {
   "cell_type": "code",
   "execution_count": null,
   "id": "4b5c8609-4bd6-44b0-befc-482c6712ecf7",
   "metadata": {},
   "outputs": [],
   "source": []
  }
 ],
 "metadata": {
  "kernelspec": {
   "display_name": "Docare AI",
   "language": "python",
   "name": "docare"
  },
  "language_info": {
   "codemirror_mode": {
    "name": "ipython",
    "version": 3
   },
   "file_extension": ".py",
   "mimetype": "text/x-python",
   "name": "python",
   "nbconvert_exporter": "python",
   "pygments_lexer": "ipython3",
   "version": "3.10.15"
  }
 },
 "nbformat": 4,
 "nbformat_minor": 5
}
