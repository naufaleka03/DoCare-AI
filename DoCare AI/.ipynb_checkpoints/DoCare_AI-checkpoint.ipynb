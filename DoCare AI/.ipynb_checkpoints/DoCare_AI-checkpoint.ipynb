{
 "cells": [
  {
   "cell_type": "markdown",
   "id": "174706bf-cda9-4724-8ce1-b8fd9cf6554d",
   "metadata": {},
   "source": [
    "<h1>IMPORT LIBRARY</h1>"
   ]
  },
  {
   "cell_type": "code",
   "execution_count": 1,
   "id": "c8113a77-44ba-4443-bc04-38be20ccedfd",
   "metadata": {},
   "outputs": [
    {
     "name": "stderr",
     "output_type": "stream",
     "text": [
      "2024-11-25 08:41:21.746404: I tensorflow/core/platform/cpu_feature_guard.cc:193] This TensorFlow binary is optimized with oneAPI Deep Neural Network Library (oneDNN) to use the following CPU instructions in performance-critical operations:  AVX2 AVX512F AVX512_VNNI FMA\n",
      "To enable them in other operations, rebuild TensorFlow with the appropriate compiler flags.\n",
      "2024-11-25 08:41:21.874114: I tensorflow/core/util/util.cc:169] oneDNN custom operations are on. You may see slightly different numerical results due to floating-point round-off errors from different computation orders. To turn them off, set the environment variable `TF_ENABLE_ONEDNN_OPTS=0`.\n",
      "2024-11-25 08:41:21.913817: E tensorflow/stream_executor/cuda/cuda_blas.cc:2981] Unable to register cuBLAS factory: Attempting to register factory for plugin cuBLAS when one has already been registered\n",
      "2024-11-25 08:41:22.645388: W tensorflow/stream_executor/platform/default/dso_loader.cc:64] Could not load dynamic library 'libnvinfer.so.7'; dlerror: libnvinfer.so.7: cannot open shared object file: No such file or directory; LD_LIBRARY_PATH: /usr/lib/cuda/include:\n",
      "2024-11-25 08:41:22.645480: W tensorflow/stream_executor/platform/default/dso_loader.cc:64] Could not load dynamic library 'libnvinfer_plugin.so.7'; dlerror: libnvinfer_plugin.so.7: cannot open shared object file: No such file or directory; LD_LIBRARY_PATH: /usr/lib/cuda/include:\n",
      "2024-11-25 08:41:22.645489: W tensorflow/compiler/tf2tensorrt/utils/py_utils.cc:38] TF-TRT Warning: Cannot dlopen some TensorRT libraries. If you would like to use Nvidia GPU with TensorRT, please make sure the missing libraries mentioned above are installed properly.\n"
     ]
    }
   ],
   "source": [
    "#Import Library\n",
    "import pandas as pd\n",
    "import numpy as np\n",
    "from qdrant_client import QdrantClient\n",
    "from qdrant_client.http.models import Distance, VectorParams, PointStruct\n",
    "import tensorflow as tf"
   ]
  },
  {
   "cell_type": "markdown",
   "id": "16983df6-30e2-402a-9d23-a62f69c9c3b3",
   "metadata": {},
   "source": [
    "<h1>DATA CLEANING</h1>"
   ]
  },
  {
   "cell_type": "code",
   "execution_count": 2,
   "id": "28a124e5-7936-4ac9-96e7-75ff01fa63bd",
   "metadata": {},
   "outputs": [
    {
     "name": "stdout",
     "output_type": "stream",
     "text": [
      "<class 'pandas.core.frame.DataFrame'>\n",
      "RangeIndex: 16412 entries, 0 to 16411\n",
      "Data columns (total 4 columns):\n",
      " #   Column      Non-Null Count  Dtype \n",
      "---  ------      --------------  ----- \n",
      " 0   question    16412 non-null  object\n",
      " 1   answer      16407 non-null  object\n",
      " 2   source      16412 non-null  object\n",
      " 3   focus_area  16398 non-null  object\n",
      "dtypes: object(4)\n",
      "memory usage: 513.0+ KB\n"
     ]
    }
   ],
   "source": [
    "dataset = pd.read_csv('medquad.csv')\n",
    "dataset.info()"
   ]
  },
  {
   "cell_type": "code",
   "execution_count": 3,
   "id": "70b34ad5-dff1-4549-9c35-d9dae2fb137b",
   "metadata": {
    "scrolled": true
   },
   "outputs": [
    {
     "data": {
      "text/html": [
       "<div>\n",
       "<style scoped>\n",
       "    .dataframe tbody tr th:only-of-type {\n",
       "        vertical-align: middle;\n",
       "    }\n",
       "\n",
       "    .dataframe tbody tr th {\n",
       "        vertical-align: top;\n",
       "    }\n",
       "\n",
       "    .dataframe thead th {\n",
       "        text-align: right;\n",
       "    }\n",
       "</style>\n",
       "<table border=\"1\" class=\"dataframe\">\n",
       "  <thead>\n",
       "    <tr style=\"text-align: right;\">\n",
       "      <th></th>\n",
       "      <th>question</th>\n",
       "      <th>answer</th>\n",
       "      <th>source</th>\n",
       "      <th>focus_area</th>\n",
       "    </tr>\n",
       "  </thead>\n",
       "  <tbody>\n",
       "    <tr>\n",
       "      <th>0</th>\n",
       "      <td>What is (are) Glaucoma ?</td>\n",
       "      <td>Glaucoma is a group of diseases that can damag...</td>\n",
       "      <td>NIHSeniorHealth</td>\n",
       "      <td>Glaucoma</td>\n",
       "    </tr>\n",
       "    <tr>\n",
       "      <th>1</th>\n",
       "      <td>What causes Glaucoma ?</td>\n",
       "      <td>Nearly 2.7 million people have glaucoma, a lea...</td>\n",
       "      <td>NIHSeniorHealth</td>\n",
       "      <td>Glaucoma</td>\n",
       "    </tr>\n",
       "    <tr>\n",
       "      <th>2</th>\n",
       "      <td>What are the symptoms of Glaucoma ?</td>\n",
       "      <td>Symptoms of Glaucoma  Glaucoma can develop in ...</td>\n",
       "      <td>NIHSeniorHealth</td>\n",
       "      <td>Glaucoma</td>\n",
       "    </tr>\n",
       "    <tr>\n",
       "      <th>3</th>\n",
       "      <td>What are the treatments for Glaucoma ?</td>\n",
       "      <td>Although open-angle glaucoma cannot be cured, ...</td>\n",
       "      <td>NIHSeniorHealth</td>\n",
       "      <td>Glaucoma</td>\n",
       "    </tr>\n",
       "    <tr>\n",
       "      <th>4</th>\n",
       "      <td>What is (are) Glaucoma ?</td>\n",
       "      <td>Glaucoma is a group of diseases that can damag...</td>\n",
       "      <td>NIHSeniorHealth</td>\n",
       "      <td>Glaucoma</td>\n",
       "    </tr>\n",
       "  </tbody>\n",
       "</table>\n",
       "</div>"
      ],
      "text/plain": [
       "                                 question  \\\n",
       "0                What is (are) Glaucoma ?   \n",
       "1                  What causes Glaucoma ?   \n",
       "2     What are the symptoms of Glaucoma ?   \n",
       "3  What are the treatments for Glaucoma ?   \n",
       "4                What is (are) Glaucoma ?   \n",
       "\n",
       "                                              answer           source  \\\n",
       "0  Glaucoma is a group of diseases that can damag...  NIHSeniorHealth   \n",
       "1  Nearly 2.7 million people have glaucoma, a lea...  NIHSeniorHealth   \n",
       "2  Symptoms of Glaucoma  Glaucoma can develop in ...  NIHSeniorHealth   \n",
       "3  Although open-angle glaucoma cannot be cured, ...  NIHSeniorHealth   \n",
       "4  Glaucoma is a group of diseases that can damag...  NIHSeniorHealth   \n",
       "\n",
       "  focus_area  \n",
       "0   Glaucoma  \n",
       "1   Glaucoma  \n",
       "2   Glaucoma  \n",
       "3   Glaucoma  \n",
       "4   Glaucoma  "
      ]
     },
     "execution_count": 3,
     "metadata": {},
     "output_type": "execute_result"
    }
   ],
   "source": [
    "dataset.head()"
   ]
  },
  {
   "cell_type": "code",
   "execution_count": 4,
   "id": "13057a07-b1eb-480f-a782-ceb309f89c1f",
   "metadata": {},
   "outputs": [
    {
     "name": "stdout",
     "output_type": "stream",
     "text": [
      "number of duplications :  48\n"
     ]
    }
   ],
   "source": [
    "print(\"number of duplications : \", dataset.duplicated().sum())"
   ]
  },
  {
   "cell_type": "code",
   "execution_count": 5,
   "id": "ad267f47-95d7-4e31-921f-f79f8133e8cd",
   "metadata": {},
   "outputs": [
    {
     "name": "stdout",
     "output_type": "stream",
     "text": [
      "number of duplications after cleaning :  0\n"
     ]
    }
   ],
   "source": [
    "dataset.drop_duplicates(inplace=True)\n",
    "print(\"number of duplications after cleaning : \", dataset.duplicated().sum())"
   ]
  },
  {
   "cell_type": "code",
   "execution_count": 6,
   "id": "1e129f10-e9c6-4bb8-869b-01d722096afd",
   "metadata": {},
   "outputs": [
    {
     "data": {
      "text/plain": [
       "question       0\n",
       "answer         5\n",
       "source         0\n",
       "focus_area    14\n",
       "dtype: int64"
      ]
     },
     "execution_count": 6,
     "metadata": {},
     "output_type": "execute_result"
    }
   ],
   "source": [
    "dataset.isna().sum()"
   ]
  },
  {
   "cell_type": "code",
   "execution_count": 7,
   "id": "4c39b562-251a-4f5c-a540-287823c84439",
   "metadata": {},
   "outputs": [
    {
     "name": "stdout",
     "output_type": "stream",
     "text": [
      "number of NaN : \n"
     ]
    },
    {
     "data": {
      "text/plain": [
       "(None, None)"
      ]
     },
     "execution_count": 7,
     "metadata": {},
     "output_type": "execute_result"
    }
   ],
   "source": [
    "print('number of NaN : '), dataset.dropna(inplace=True)"
   ]
  },
  {
   "cell_type": "code",
   "execution_count": 8,
   "id": "42798bc7-92e8-4a59-8522-7ce2b7f89b7c",
   "metadata": {},
   "outputs": [],
   "source": [
    "#Save Dataset\n",
    "dataset.to_csv('cleaned_medquad.csv', index=False)"
   ]
  },
  {
   "cell_type": "markdown",
   "id": "e4f82698-4c22-4ac2-9393-2b10a9f72efc",
   "metadata": {},
   "source": [
    "<h1>TOKENIZATION & EMBEDDING</h1>"
   ]
  },
  {
   "cell_type": "code",
   "execution_count": 9,
   "id": "44a61831-4e0a-4cba-bf6d-f996c36e8e77",
   "metadata": {},
   "outputs": [],
   "source": [
    "question = dataset['question'].tolist()\n",
    "answer = dataset['answer'].tolist()\n",
    "qa_combined = (dataset['question'] + \" \" + dataset['answer']).tolist()\n",
    "\n",
    "\n",
    "tokenizer = tf.keras.preprocessing.text.Tokenizer()\n",
    "tokenizer.fit_on_texts(qa_combined)\n",
    "qa = tokenizer.texts_to_sequences(qa_combined)\n",
    "maxlen_qa = max([len(x) for x in qa])\n",
    "padded_qa = tf.keras.preprocessing.sequence.pad_sequences(qa, maxlen=maxlen_qa, padding='post')"
   ]
  },
  {
   "cell_type": "code",
   "execution_count": 10,
   "id": "aeacd271-34e3-4ae0-bb9c-68a11307c95a",
   "metadata": {},
   "outputs": [
    {
     "name": "stderr",
     "output_type": "stream",
     "text": [
      "2024-11-25 08:41:28.269381: W tensorflow/stream_executor/platform/default/dso_loader.cc:64] Could not load dynamic library 'libcudnn.so.8'; dlerror: libcudnn.so.8: cannot open shared object file: No such file or directory; LD_LIBRARY_PATH: /usr/lib/cuda/include:\n",
      "2024-11-25 08:41:28.269417: W tensorflow/core/common_runtime/gpu/gpu_device.cc:1934] Cannot dlopen some GPU libraries. Please make sure the missing libraries mentioned above are installed properly if you would like to use GPU. Follow the guide at https://www.tensorflow.org/install/gpu for how to download and setup the required libraries for your platform.\n",
      "Skipping registering GPU devices...\n",
      "2024-11-25 08:41:28.270587: I tensorflow/core/platform/cpu_feature_guard.cc:193] This TensorFlow binary is optimized with oneAPI Deep Neural Network Library (oneDNN) to use the following CPU instructions in performance-critical operations:  AVX2 AVX512F AVX512_VNNI FMA\n",
      "To enable them in other operations, rebuild TensorFlow with the appropriate compiler flags.\n"
     ]
    }
   ],
   "source": [
    "#Dimension of embedding vectors\n",
    "embedding_model = tf.keras.Sequential([\n",
    "    tf.keras.layers.Embedding(input_dim=len(tokenizer.word_index) + 1, output_dim=768, input_length=maxlen_qa),\n",
    "    tf.keras.layers.GlobalAveragePooling1D()\n",
    "])"
   ]
  },
  {
   "cell_type": "code",
   "execution_count": 11,
   "id": "1fa24ad7-aeed-435f-95a3-083341e57192",
   "metadata": {},
   "outputs": [
    {
     "name": "stdout",
     "output_type": "stream",
     "text": [
      "Model: \"sequential\"\n",
      "_________________________________________________________________\n",
      " Layer (type)                Output Shape              Param #   \n",
      "=================================================================\n",
      " embedding (Embedding)       (None, 4253, 768)         22765056  \n",
      "                                                                 \n",
      " global_average_pooling1d (G  (None, 768)              0         \n",
      " lobalAveragePooling1D)                                          \n",
      "                                                                 \n",
      "=================================================================\n",
      "Total params: 22,765,056\n",
      "Trainable params: 22,765,056\n",
      "Non-trainable params: 0\n",
      "_________________________________________________________________\n"
     ]
    }
   ],
   "source": [
    "embedding_model.summary()"
   ]
  },
  {
   "cell_type": "code",
   "execution_count": 12,
   "id": "6988a917-b0ca-48de-b948-7da2255ccb59",
   "metadata": {},
   "outputs": [
    {
     "name": "stdout",
     "output_type": "stream",
     "text": [
      "WARNING:tensorflow:Compiled the loaded model, but the compiled metrics have yet to be built. `model.compile_metrics` will be empty until you train or evaluate the model.\n"
     ]
    }
   ],
   "source": [
    "#Save Model\n",
    "embedding_model.save(\"./embedding_model.h5\")"
   ]
  },
  {
   "cell_type": "code",
   "execution_count": 13,
   "id": "f19f6778-5aff-4c77-8ca0-76a6d4438857",
   "metadata": {},
   "outputs": [
    {
     "name": "stdout",
     "output_type": "stream",
     "text": [
      "511/511 [==============================] - 32s 63ms/step\n"
     ]
    }
   ],
   "source": [
    "embedding_qa = embedding_model.predict(padded_qa)"
   ]
  },
  {
   "cell_type": "markdown",
   "id": "2a572bc5-88f2-4703-b1b2-251862baf1dd",
   "metadata": {},
   "source": [
    "<h1>QDRANT</h1>"
   ]
  },
  {
   "cell_type": "code",
   "execution_count": 14,
   "id": "6ed170c0-34d4-4fef-a6d6-514494b3fe77",
   "metadata": {},
   "outputs": [],
   "source": [
    "#Database Initialization\n",
    "client = QdrantClient(\"http://10.12.9.105:6333\")"
   ]
  },
  {
   "cell_type": "code",
   "execution_count": 15,
   "id": "50fef702-7e8b-40b4-8840-daf33bd4ef67",
   "metadata": {},
   "outputs": [
    {
     "name": "stderr",
     "output_type": "stream",
     "text": [
      "/tmp/ipykernel_1753478/1421055394.py:2: DeprecationWarning: `recreate_collection` method is deprecated and will be removed in the future. Use `collection_exists` to check collection existence and `create_collection` instead.\n",
      "  client.recreate_collection(\n"
     ]
    },
    {
     "name": "stdout",
     "output_type": "stream",
     "text": [
      "Uploaded batch 1\n",
      "Uploaded batch 2\n",
      "Uploaded batch 3\n",
      "Uploaded batch 4\n",
      "Uploaded batch 5\n",
      "Uploaded batch 6\n",
      "Uploaded batch 7\n",
      "Uploaded batch 8\n",
      "Uploaded batch 9\n",
      "Uploaded batch 10\n",
      "Uploaded batch 11\n",
      "Uploaded batch 12\n",
      "Uploaded batch 13\n",
      "Uploaded batch 14\n",
      "Uploaded batch 15\n",
      "Uploaded batch 16\n",
      "Uploaded batch 17\n",
      "Uploaded batch 18\n",
      "Uploaded batch 19\n",
      "Uploaded batch 20\n",
      "Uploaded batch 21\n",
      "Uploaded batch 22\n",
      "Uploaded batch 23\n",
      "Uploaded batch 24\n",
      "Uploaded batch 25\n",
      "Uploaded batch 26\n",
      "Uploaded batch 27\n",
      "Uploaded batch 28\n",
      "Uploaded batch 29\n",
      "Uploaded batch 30\n",
      "Uploaded batch 31\n",
      "Uploaded batch 32\n",
      "Uploaded batch 33\n"
     ]
    }
   ],
   "source": [
    "#Input Data to Qdrant\n",
    "client.recreate_collection(\n",
    "    collection_name='Healthcare_2',\n",
    "    vectors_config=VectorParams(\n",
    "        size=embedding_qa.shape[1],\n",
    "        distance=Distance.COSINE\n",
    "    )\n",
    ")\n",
    "\n",
    "points = [\n",
    "    PointStruct(\n",
    "        id=i,\n",
    "        vector=embedding_qa[i].tolist(),\n",
    "        payload={\"question\" : dataset['question'].iloc[i], 'answer' : dataset['answer'].iloc[i]}\n",
    "    )\n",
    "    for i in range(len(embedding_qa))\n",
    "]\n",
    "\n",
    "batch_size = 500\n",
    "\n",
    "#Split data to smaller batches\n",
    "for i in range(0, len(points), batch_size):\n",
    "    batch_points = points[i:i+batch_size]\n",
    "    \n",
    "    client.upsert(\n",
    "        collection_name='Healthcare_2',\n",
    "        wait=True,\n",
    "        points=batch_points\n",
    "    )\n",
    "    print(f'Uploaded batch {i // batch_size + 1}')"
   ]
  },
  {
   "cell_type": "code",
   "execution_count": 16,
   "id": "b4d315d9-8ba3-4cc3-9fb5-f55b154ffa38",
   "metadata": {
    "scrolled": true
   },
   "outputs": [
    {
     "name": "stdout",
     "output_type": "stream",
     "text": [
      "1/1 [==============================] - 0s 29ms/step\n",
      "what can i do to prevent poisoning by marine toxins? General guidelines for safe seafood consumption:\n",
      "What causes Childhood Ependymoma ? The cause of most childhood brain tumors is unknown.\n",
      "What is the outlook for Thyrotoxic Myopathy ? With treatment, muscle weakness may improve or be reversed.\n"
     ]
    }
   ],
   "source": [
    "def search(query):\n",
    "    query_vector = tokenizer.texts_to_sequences([query])\n",
    "    padded_query = tf.keras.preprocessing.sequence.pad_sequences(query_vector, maxlen=maxlen_qa, padding='post')\n",
    "    \n",
    "    #Get the embedding vector for the query\n",
    "    embedding_query = embedding_model.predict(padded_query)[0]\n",
    "    \n",
    "    #Perform the search\n",
    "    results = client.search(\n",
    "        collection_name='Healthcare_2',\n",
    "        query_vector=embedding_query.tolist(),\n",
    "        limit=3\n",
    "    )\n",
    "\n",
    "    #Sort results by score\n",
    "    sorted_result = sorted(results, key=lambda x: x.score, reverse=True)\n",
    "    \n",
    "    return [res.payload['question'] + ' ' + res.payload['answer'] for res in sorted_result]\n",
    "\n",
    "query = 'I have blurred vision, eye pain and redness, seeing flashes of light. What disease do I suffer from?'\n",
    "results = search(query)\n",
    "for result in results:\n",
    "    print(result)"
   ]
  },
  {
   "cell_type": "code",
   "execution_count": null,
   "id": "aa0037f3-9679-4fd0-b15d-b2b80199fac0",
   "metadata": {},
   "outputs": [],
   "source": []
  },
  {
   "cell_type": "code",
   "execution_count": 17,
   "id": "af03d586-56db-4e70-8816-b5d1bb088ceb",
   "metadata": {},
   "outputs": [
    {
     "name": "stderr",
     "output_type": "stream",
     "text": [
      "/home/a_syarif_hidayat/anaconda3/envs/docare/lib/python3.10/site-packages/sentence_transformers/cross_encoder/CrossEncoder.py:11: TqdmExperimentalWarning: Using `tqdm.autonotebook.tqdm` in notebook mode. Use `tqdm.tqdm` instead to force console mode (e.g. in jupyter console)\n",
      "  from tqdm.autonotebook import tqdm, trange\n",
      "/home/a_syarif_hidayat/anaconda3/envs/docare/lib/python3.10/site-packages/transformers/tokenization_utils_base.py:1601: FutureWarning: `clean_up_tokenization_spaces` was not set. It will be set to `True` by default. This behavior will be depracted in transformers v4.45, and will be then set to `False` by default. For more details check this issue: https://github.com/huggingface/transformers/issues/31884\n",
      "  warnings.warn(\n"
     ]
    },
    {
     "name": "stdout",
     "output_type": "stream",
     "text": [
      "What is (are) Eye Diseases ? Some eye problems are minor and don't last long. But some can lead to a permanent loss of vision.    Common eye problems include       - Refractive errors    - Cataracts - clouded lenses    - Glaucoma - a disorder caused by damage to the optic nerve    - Retinal disorders - problems with the nerve layer at the back of the eye    - Macular degeneration - a disease that destroys sharp, central vision    - Diabetic eye problems    - Conjunctivitis - an infection also known as pinkeye       Your best defense is to have regular checkups, because eye diseases do not always have symptoms. Early detection and treatment could prevent vision loss. See an eye care professional right away if you have a sudden change in vision, if everything looks dim, or if you see flashes of light. Other symptoms that need quick attention are pain, double vision, fluid coming from the eye, and inflammation.    NIH: National Eye Institute\n",
      "What are the symptoms of Diabetic Retinopathy ? At first, you will see a few specks of blood, or spots, \"floating\" in your vision. If spots occur, see your eye care professional as soon as possible. You may need treatment before more serious bleeding or hemorrhaging occurs. Hemorrhages tend to happen more than once, often during sleep. Sometimes, the spots clear without treatment, and you will see better. However, bleeding can reoccur and cause severely blurred vision. You need to be examined by your eye care professional at the first sign of blurred vision, before more bleeding occurs. If left untreated, proliferative retinopathy can cause severe vision loss and even blindness. Also, the earlier you receive treatment, the more likely treatment will be effective.\n",
      "What are the symptoms of Age-related Macular Degeneration ? The most common symptom of dry AMD is slightly blurred vision. You may have difficulty recognizing faces. You may need more light for reading and other tasks. Dry AMD generally affects both eyes, but vision can be lost in one eye while the other eye seems unaffected. One of the most common early signs of dry AMD is drusen. Drusen are yellow deposits under the retina. They often are found in people over age 50. Your eye care professional can detect drusen during a comprehensive dilated eye exam.\n"
     ]
    }
   ],
   "source": [
    "#Import Library\n",
    "from qdrant_client import QdrantClient\n",
    "from sentence_transformers import SentenceTransformer\n",
    "import torch\n",
    "from qdrant_client.http.models import Distance, VectorParams, PointStruct\n",
    "\n",
    "#Inisialisasi Database dan Model Embedding\n",
    "client = QdrantClient(\"http://10.12.9.105:6333\")\n",
    "\n",
    "model = SentenceTransformer('paraphrase-multilingual-mpnet-base-v2', device='cuda' if torch.cuda.is_available() else 'cpu')\n",
    "\n",
    "def search(query):\n",
    "    query_vector= model.encode(query)\n",
    "    results = client.search(\n",
    "        collection_name = 'Healthcare',\n",
    "        query_vector=query_vector,\n",
    "        limit = 3\n",
    "    )\n",
    "    #Mengurutkan hasil berdasarkan skor relevansi\n",
    "    sorted_result = sorted(results, key=lambda x: x.score, reverse=True)\n",
    "    return [res.payload['question'] + ' ' + res.payload['answer'] for res in sorted_result]\n",
    "\n",
    "query = 'I have blurred vision, eye pain and redness, seeing flashes of light. What disease do I suffer from?'\n",
    "results = search(query)\n",
    "for result in results:\n",
    "    print(result)"
   ]
  },
  {
   "cell_type": "code",
   "execution_count": null,
   "id": "394a5909-d727-4df9-8d87-2f17f48cc5cc",
   "metadata": {},
   "outputs": [],
   "source": []
  }
 ],
 "metadata": {
  "kernelspec": {
   "display_name": "Docare AI",
   "language": "python",
   "name": "docare"
  },
  "language_info": {
   "codemirror_mode": {
    "name": "ipython",
    "version": 3
   },
   "file_extension": ".py",
   "mimetype": "text/x-python",
   "name": "python",
   "nbconvert_exporter": "python",
   "pygments_lexer": "ipython3",
   "version": "3.10.15"
  }
 },
 "nbformat": 4,
 "nbformat_minor": 5
}
